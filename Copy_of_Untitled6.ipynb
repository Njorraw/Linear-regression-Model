{
  "nbformat": 4,
  "nbformat_minor": 0,
  "metadata": {
    "colab": {
      "provenance": [],
      "authorship_tag": "ABX9TyM10LMo27zCiNlHwn7Cx5zr",
      "include_colab_link": true
    },
    "kernelspec": {
      "name": "python3",
      "display_name": "Python 3"
    },
    "language_info": {
      "name": "python"
    }
  },
  "cells": [
    {
      "cell_type": "markdown",
      "metadata": {
        "id": "view-in-github",
        "colab_type": "text"
      },
      "source": [
        "<a href=\"https://colab.research.google.com/github/Njorraw/Linear-regression-Model/blob/main/Copy_of_Untitled6.ipynb\" target=\"_parent\"><img src=\"https://colab.research.google.com/assets/colab-badge.svg\" alt=\"Open In Colab\"/></a>"
      ]
    },
    {
      "cell_type": "code",
      "source": [
        "import pandas as pd\n",
        "import numpy as np\n",
        "from sklearn.impute import SimpleImputer\n",
        "from sklearn.preprocessing import StandardScaler\n",
        "from sklearn.model_selection import cross_val_score, KFold\n",
        "from sklearn.neighbors import KNeighborsClassifier\n",
        "from sklearn.tree import DecisionTreeClassifier"
      ],
      "metadata": {
        "id": "koxlnxzc9d1K"
      },
      "execution_count": 7,
      "outputs": []
    },
    {
      "cell_type": "code",
      "execution_count": 8,
      "metadata": {
        "colab": {
          "base_uri": "https://localhost:8080/"
        },
        "id": "cfUK9xoeghnp",
        "outputId": "6cd664b9-b2e9-42d8-c07a-53a88f8dff97"
      },
      "outputs": [
        {
          "output_type": "stream",
          "name": "stdout",
          "text": [
            "   Pregnancies  Glucose  BloodPressure  SkinThickness  Insulin   BMI  \\\n",
            "0            6      148             72             35        0  33.6   \n",
            "1            1       85             66             29        0  26.6   \n",
            "2            8      183             64              0        0  23.3   \n",
            "3            1       89             66             23       94  28.1   \n",
            "4            0      137             40             35      168  43.1   \n",
            "\n",
            "   DiabetesPedigreeFunction  Age  Outcome  \n",
            "0                     0.627   50        1  \n",
            "1                     0.351   31        0  \n",
            "2                     0.672   32        1  \n",
            "3                     0.167   21        0  \n",
            "4                     2.288   33        1  \n",
            "(768, 9)\n"
          ]
        }
      ],
      "source": [
        "import pandas as pd\n",
        "# Read the uploaded CSV file\n",
        "data = pd.read_csv('/content/diabetes (1).csv')\n",
        "\n",
        "# Verify the data was loaded correctly\n",
        "print(data.head())\n",
        "print(data.shape)"
      ]
    },
    {
      "cell_type": "code",
      "source": [
        "# Inspect the data\n",
        "print(data.info())\n",
        "print(data.describe())\n",
        "print(data.head())"
      ],
      "metadata": {
        "colab": {
          "base_uri": "https://localhost:8080/"
        },
        "id": "O4o6OWHV9j51",
        "outputId": "2f2c21f9-c58a-4939-ac23-0a2cb0d21071"
      },
      "execution_count": 9,
      "outputs": [
        {
          "output_type": "stream",
          "name": "stdout",
          "text": [
            "<class 'pandas.core.frame.DataFrame'>\n",
            "RangeIndex: 768 entries, 0 to 767\n",
            "Data columns (total 9 columns):\n",
            " #   Column                    Non-Null Count  Dtype  \n",
            "---  ------                    --------------  -----  \n",
            " 0   Pregnancies               768 non-null    int64  \n",
            " 1   Glucose                   768 non-null    int64  \n",
            " 2   BloodPressure             768 non-null    int64  \n",
            " 3   SkinThickness             768 non-null    int64  \n",
            " 4   Insulin                   768 non-null    int64  \n",
            " 5   BMI                       768 non-null    float64\n",
            " 6   DiabetesPedigreeFunction  768 non-null    float64\n",
            " 7   Age                       768 non-null    int64  \n",
            " 8   Outcome                   768 non-null    int64  \n",
            "dtypes: float64(2), int64(7)\n",
            "memory usage: 54.1 KB\n",
            "None\n",
            "       Pregnancies     Glucose  BloodPressure  SkinThickness     Insulin  \\\n",
            "count   768.000000  768.000000     768.000000     768.000000  768.000000   \n",
            "mean      3.845052  120.894531      69.105469      20.536458   79.799479   \n",
            "std       3.369578   31.972618      19.355807      15.952218  115.244002   \n",
            "min       0.000000    0.000000       0.000000       0.000000    0.000000   \n",
            "25%       1.000000   99.000000      62.000000       0.000000    0.000000   \n",
            "50%       3.000000  117.000000      72.000000      23.000000   30.500000   \n",
            "75%       6.000000  140.250000      80.000000      32.000000  127.250000   \n",
            "max      17.000000  199.000000     122.000000      99.000000  846.000000   \n",
            "\n",
            "              BMI  DiabetesPedigreeFunction         Age     Outcome  \n",
            "count  768.000000                768.000000  768.000000  768.000000  \n",
            "mean    31.992578                  0.471876   33.240885    0.348958  \n",
            "std      7.884160                  0.331329   11.760232    0.476951  \n",
            "min      0.000000                  0.078000   21.000000    0.000000  \n",
            "25%     27.300000                  0.243750   24.000000    0.000000  \n",
            "50%     32.000000                  0.372500   29.000000    0.000000  \n",
            "75%     36.600000                  0.626250   41.000000    1.000000  \n",
            "max     67.100000                  2.420000   81.000000    1.000000  \n",
            "   Pregnancies  Glucose  BloodPressure  SkinThickness  Insulin   BMI  \\\n",
            "0            6      148             72             35        0  33.6   \n",
            "1            1       85             66             29        0  26.6   \n",
            "2            8      183             64              0        0  23.3   \n",
            "3            1       89             66             23       94  28.1   \n",
            "4            0      137             40             35      168  43.1   \n",
            "\n",
            "   DiabetesPedigreeFunction  Age  Outcome  \n",
            "0                     0.627   50        1  \n",
            "1                     0.351   31        0  \n",
            "2                     0.672   32        1  \n",
            "3                     0.167   21        0  \n",
            "4                     2.288   33        1  \n"
          ]
        }
      ]
    },
    {
      "cell_type": "code",
      "source": [
        "# Check for missing values\n",
        "print(data.isnull().sum())\n"
      ],
      "metadata": {
        "colab": {
          "base_uri": "https://localhost:8080/"
        },
        "id": "_ha4F1qW9r9s",
        "outputId": "dd30ae0c-95c0-4a52-be05-d113a728b872"
      },
      "execution_count": 10,
      "outputs": [
        {
          "output_type": "stream",
          "name": "stdout",
          "text": [
            "Pregnancies                 0\n",
            "Glucose                     0\n",
            "BloodPressure               0\n",
            "SkinThickness               0\n",
            "Insulin                     0\n",
            "BMI                         0\n",
            "DiabetesPedigreeFunction    0\n",
            "Age                         0\n",
            "Outcome                     0\n",
            "dtype: int64\n"
          ]
        }
      ]
    },
    {
      "cell_type": "code",
      "source": [
        "data = pd.read_csv('/content/diabetes (1).csv')\n",
        "\n",
        "# Display the first few rows to verify data loading\n",
        "print(data.head())"
      ],
      "metadata": {
        "colab": {
          "base_uri": "https://localhost:8080/"
        },
        "id": "owITvd3bCbeO",
        "outputId": "1e38a009-5c8d-4214-f3bf-a785c0cb49dc"
      },
      "execution_count": 11,
      "outputs": [
        {
          "output_type": "stream",
          "name": "stdout",
          "text": [
            "   Pregnancies  Glucose  BloodPressure  SkinThickness  Insulin   BMI  \\\n",
            "0            6      148             72             35        0  33.6   \n",
            "1            1       85             66             29        0  26.6   \n",
            "2            8      183             64              0        0  23.3   \n",
            "3            1       89             66             23       94  28.1   \n",
            "4            0      137             40             35      168  43.1   \n",
            "\n",
            "   DiabetesPedigreeFunction  Age  Outcome  \n",
            "0                     0.627   50        1  \n",
            "1                     0.351   31        0  \n",
            "2                     0.672   32        1  \n",
            "3                     0.167   21        0  \n",
            "4                     2.288   33        1  \n"
          ]
        }
      ]
    },
    {
      "cell_type": "code",
      "source": [
        "# Identify columns with potentially invalid zeros\n",
        "# Adjust this list based on your dataset\n",
        "cols_with_zeros = ['Glucose', 'BloodPressure', 'SkinThickness', 'Insulin', 'BMI']\n"
      ],
      "metadata": {
        "id": "N7BPFUwV91h-"
      },
      "execution_count": 12,
      "outputs": []
    },
    {
      "cell_type": "code",
      "source": [
        "# Replace zeros with NaN in the identified columns\n",
        "data[cols_with_zeros] = data[cols_with_zeros].replace({0: np.nan})\n"
      ],
      "metadata": {
        "id": "31zI-m3p9_SO"
      },
      "execution_count": 13,
      "outputs": []
    },
    {
      "cell_type": "code",
      "source": [
        "# Impute missing values with mean\n",
        "imputer = SimpleImputer(strategy='mean')\n",
        "data_imputed = pd.DataFrame(imputer.fit_transform(data), columns=data.columns)\n"
      ],
      "metadata": {
        "id": "gFMmzSNK-EGY"
      },
      "execution_count": 14,
      "outputs": []
    },
    {
      "cell_type": "code",
      "source": [
        "# Scale the features\n",
        "scaler = StandardScaler()\n",
        "data_scaled = pd.DataFrame(scaler.fit_transform(data_imputed), columns=data_imputed.columns)\n"
      ],
      "metadata": {
        "id": "3vcPHgCG-KE6"
      },
      "execution_count": 15,
      "outputs": []
    },
    {
      "cell_type": "code",
      "source": [
        "# Prepare data for modeling\n",
        "X = data_scaled.drop('Outcome', axis=1)\n",
        "y = data_scaled['Outcome']\n"
      ],
      "metadata": {
        "id": "7goVnS4x-RnT"
      },
      "execution_count": 16,
      "outputs": []
    },
    {
      "cell_type": "code",
      "source": [
        "\n",
        "# Replace 'column 4' with the actual name of the column in your DataFrame\n",
        "cols = ['SkinThickness']\n",
        "data[cols] = data[cols].replace({0:np.nan})"
      ],
      "metadata": {
        "id": "MRLtJPf_N0xp"
      },
      "execution_count": 17,
      "outputs": []
    },
    {
      "cell_type": "code",
      "source": [
        "import pandas as pd\n",
        "import numpy as np\n",
        "\n",
        "# Sample DataFrame (replace with your actual data)\n",
        "data = pd.DataFrame({\n",
        "    'A': [1, 2, 3, 0, 5],\n",
        "    'B': [0, 7, 8, 9, 10],\n",
        "    'X': [1, 0, 3, 0, 5],  # Column with invalid zeros\n",
        "    'Y': [10, 20, 0, 40, 0]  # Column with invalid zeros\n",
        "    # ... other columns ...\n",
        "})\n",
        "\n",
        "# Identify columns with invalid zeros (replace 'X' and 'Y' with actual column names)\n",
        "cols_with_zeros = ['X', 'Y']\n",
        "\n",
        "# Replace zeros with NaN in the identified columns\n",
        "data[cols_with_zeros] = data[cols_with_zeros].replace({0: np.nan})\n",
        "\n",
        "print(data)"
      ],
      "metadata": {
        "colab": {
          "base_uri": "https://localhost:8080/"
        },
        "id": "RTcceDSXBq9M",
        "outputId": "1cf775c5-0c12-456d-9f43-f7502b5ac8d9"
      },
      "execution_count": 18,
      "outputs": [
        {
          "output_type": "stream",
          "name": "stdout",
          "text": [
            "   A   B    X     Y\n",
            "0  1   0  1.0  10.0\n",
            "1  2   7  NaN  20.0\n",
            "2  3   8  3.0   NaN\n",
            "3  0   9  NaN  40.0\n",
            "4  5  10  5.0   NaN\n"
          ]
        }
      ]
    },
    {
      "cell_type": "code",
      "source": [
        "print(data)"
      ],
      "metadata": {
        "colab": {
          "base_uri": "https://localhost:8080/"
        },
        "id": "IT9w0pHlKFLy",
        "outputId": "dc55eb79-a17f-4996-e0e9-806de53a4c64"
      },
      "execution_count": 19,
      "outputs": [
        {
          "output_type": "stream",
          "name": "stdout",
          "text": [
            "   A   B    X     Y\n",
            "0  1   0  1.0  10.0\n",
            "1  2   7  NaN  20.0\n",
            "2  3   8  3.0   NaN\n",
            "3  0   9  NaN  40.0\n",
            "4  5  10  5.0   NaN\n"
          ]
        }
      ]
    },
    {
      "cell_type": "code",
      "source": [
        "print(data.isna().sum())"
      ],
      "metadata": {
        "colab": {
          "base_uri": "https://localhost:8080/"
        },
        "id": "_YKuj7RoKO4Q",
        "outputId": "896b30ea-c049-45fc-c686-c261faa86aac"
      },
      "execution_count": 20,
      "outputs": [
        {
          "output_type": "stream",
          "name": "stdout",
          "text": [
            "A    0\n",
            "B    0\n",
            "X    2\n",
            "Y    2\n",
            "dtype: int64\n"
          ]
        }
      ]
    },
    {
      "cell_type": "code",
      "source": [
        "print(data.describe())"
      ],
      "metadata": {
        "colab": {
          "base_uri": "https://localhost:8080/"
        },
        "id": "lPAX1yO-Ka8h",
        "outputId": "f6c2db8e-7795-4b29-db8a-d1005ecdcb75"
      },
      "execution_count": 21,
      "outputs": [
        {
          "output_type": "stream",
          "name": "stdout",
          "text": [
            "              A          B    X          Y\n",
            "count  5.000000   5.000000  3.0   3.000000\n",
            "mean   2.200000   6.800000  3.0  23.333333\n",
            "std    1.923538   3.962323  2.0  15.275252\n",
            "min    0.000000   0.000000  1.0  10.000000\n",
            "25%    1.000000   7.000000  2.0  15.000000\n",
            "50%    2.000000   8.000000  3.0  20.000000\n",
            "75%    3.000000   9.000000  4.0  30.000000\n",
            "max    5.000000  10.000000  5.0  40.000000\n"
          ]
        }
      ]
    },
    {
      "cell_type": "code",
      "source": [
        "# Prepare data for modeling\n",
        "X = data_scaled.drop('Outcome', axis=1)\n",
        "\n",
        "# Convert the 'Outcome' column to integers (assuming it represents categories)\n",
        "y = data_scaled['Outcome'].astype(int)\n",
        "\n",
        "# Set up k-fold cross validation\n",
        "kf = KFold(n_splits=5, shuffle=True, random_state=42)\n",
        "\n",
        "# KNN\n",
        "knn = KNeighborsClassifier()\n",
        "knn_scores = cross_val_score(knn, X, y, cv=kf)\n",
        "print(\"KNN mean accuracy:\", knn_scores.mean())\n",
        "print(\"KNN standard deviation:\", knn_scores.std())"
      ],
      "metadata": {
        "colab": {
          "base_uri": "https://localhost:8080/"
        },
        "id": "9KoBZKLQ-4EJ",
        "outputId": "c801baa1-ee01-4483-f093-d01a71c1b609"
      },
      "execution_count": 22,
      "outputs": [
        {
          "output_type": "stream",
          "name": "stdout",
          "text": [
            "KNN mean accuracy: 0.7409048467871997\n",
            "KNN standard deviation: 0.012192067320278584\n"
          ]
        }
      ]
    },
    {
      "cell_type": "code",
      "source": [
        "# Decision Tree\n",
        "dt = DecisionTreeClassifier(random_state=42)\n",
        "dt_scores = cross_val_score(dt, X, y, cv=kf)\n",
        "print(\"Decision Tree mean accuracy:\", dt_scores.mean())\n",
        "print(\"Decision Tree standard deviation:\", dt_scores.std())\n"
      ],
      "metadata": {
        "colab": {
          "base_uri": "https://localhost:8080/"
        },
        "id": "vNgR2ANv-9TU",
        "outputId": "9280b685-8d1c-4103-eef2-2db531fd6269"
      },
      "execution_count": 23,
      "outputs": [
        {
          "output_type": "stream",
          "name": "stdout",
          "text": [
            "Decision Tree mean accuracy: 0.7278584160937103\n",
            "Decision Tree standard deviation: 0.023863915052930666\n"
          ]
        }
      ]
    }
  ]
}